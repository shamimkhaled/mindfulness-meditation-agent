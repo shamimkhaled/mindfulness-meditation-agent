{
  "nbformat": 4,
  "nbformat_minor": 0,
  "metadata": {
    "colab": {
      "provenance": [],
      "gpuType": "T4",
      "authorship_tag": "ABX9TyM465UODIeszHEl1jWp8F9Z",
      "include_colab_link": true
    },
    "kernelspec": {
      "name": "python3",
      "display_name": "Python 3"
    },
    "language_info": {
      "name": "python"
    },
    "accelerator": "GPU"
  },
  "cells": [
    {
      "cell_type": "markdown",
      "metadata": {
        "id": "view-in-github",
        "colab_type": "text"
      },
      "source": [
        "<a href=\"https://colab.research.google.com/github/shamimkhaled/mindfulness-meditation-agent/blob/main/Meditation_Agent_to_Generate_Structured_Outputs_with_LangGraph.ipynb\" target=\"_parent\"><img src=\"https://colab.research.google.com/assets/colab-badge.svg\" alt=\"Open In Colab\"/></a>"
      ]
    },
    {
      "cell_type": "markdown",
      "source": [
        "# Install the necessary libraries"
      ],
      "metadata": {
        "id": "lfAZmYydQlAV"
      }
    },
    {
      "cell_type": "code",
      "execution_count": null,
      "metadata": {
        "colab": {
          "base_uri": "https://localhost:8080/"
        },
        "id": "J9ExSM_xQg7v",
        "outputId": "367293e4-738b-47d5-8bf7-01f98d90316a"
      },
      "outputs": [
        {
          "output_type": "stream",
          "name": "stdout",
          "text": [
            "Requirement already satisfied: pydantic in /usr/local/lib/python3.10/dist-packages (2.9.2)\n",
            "Requirement already satisfied: pytest in /usr/local/lib/python3.10/dist-packages (7.4.4)\n",
            "Collecting openai==0.28\n",
            "  Using cached openai-0.28.0-py3-none-any.whl.metadata (13 kB)\n",
            "Requirement already satisfied: requests>=2.20 in /usr/local/lib/python3.10/dist-packages (from openai==0.28) (2.32.3)\n",
            "Requirement already satisfied: tqdm in /usr/local/lib/python3.10/dist-packages (from openai==0.28) (4.66.5)\n",
            "Requirement already satisfied: aiohttp in /usr/local/lib/python3.10/dist-packages (from openai==0.28) (3.10.10)\n",
            "Requirement already satisfied: annotated-types>=0.6.0 in /usr/local/lib/python3.10/dist-packages (from pydantic) (0.7.0)\n",
            "Requirement already satisfied: pydantic-core==2.23.4 in /usr/local/lib/python3.10/dist-packages (from pydantic) (2.23.4)\n",
            "Requirement already satisfied: typing-extensions>=4.6.1 in /usr/local/lib/python3.10/dist-packages (from pydantic) (4.12.2)\n",
            "Requirement already satisfied: iniconfig in /usr/local/lib/python3.10/dist-packages (from pytest) (2.0.0)\n",
            "Requirement already satisfied: packaging in /usr/local/lib/python3.10/dist-packages (from pytest) (24.1)\n",
            "Requirement already satisfied: pluggy<2.0,>=0.12 in /usr/local/lib/python3.10/dist-packages (from pytest) (1.5.0)\n",
            "Requirement already satisfied: exceptiongroup>=1.0.0rc8 in /usr/local/lib/python3.10/dist-packages (from pytest) (1.2.2)\n",
            "Requirement already satisfied: tomli>=1.0.0 in /usr/local/lib/python3.10/dist-packages (from pytest) (2.0.2)\n",
            "Requirement already satisfied: charset-normalizer<4,>=2 in /usr/local/lib/python3.10/dist-packages (from requests>=2.20->openai==0.28) (3.4.0)\n",
            "Requirement already satisfied: idna<4,>=2.5 in /usr/local/lib/python3.10/dist-packages (from requests>=2.20->openai==0.28) (3.10)\n",
            "Requirement already satisfied: urllib3<3,>=1.21.1 in /usr/local/lib/python3.10/dist-packages (from requests>=2.20->openai==0.28) (2.2.3)\n",
            "Requirement already satisfied: certifi>=2017.4.17 in /usr/local/lib/python3.10/dist-packages (from requests>=2.20->openai==0.28) (2024.8.30)\n",
            "Requirement already satisfied: aiohappyeyeballs>=2.3.0 in /usr/local/lib/python3.10/dist-packages (from aiohttp->openai==0.28) (2.4.3)\n",
            "Requirement already satisfied: aiosignal>=1.1.2 in /usr/local/lib/python3.10/dist-packages (from aiohttp->openai==0.28) (1.3.1)\n",
            "Requirement already satisfied: attrs>=17.3.0 in /usr/local/lib/python3.10/dist-packages (from aiohttp->openai==0.28) (24.2.0)\n",
            "Requirement already satisfied: frozenlist>=1.1.1 in /usr/local/lib/python3.10/dist-packages (from aiohttp->openai==0.28) (1.4.1)\n",
            "Requirement already satisfied: multidict<7.0,>=4.5 in /usr/local/lib/python3.10/dist-packages (from aiohttp->openai==0.28) (6.1.0)\n",
            "Requirement already satisfied: yarl<2.0,>=1.12.0 in /usr/local/lib/python3.10/dist-packages (from aiohttp->openai==0.28) (1.14.0)\n",
            "Requirement already satisfied: async-timeout<5.0,>=4.0 in /usr/local/lib/python3.10/dist-packages (from aiohttp->openai==0.28) (4.0.3)\n",
            "Requirement already satisfied: propcache>=0.2.0 in /usr/local/lib/python3.10/dist-packages (from yarl<2.0,>=1.12.0->aiohttp->openai==0.28) (0.2.0)\n",
            "Using cached openai-0.28.0-py3-none-any.whl (76 kB)\n",
            "Installing collected packages: openai\n",
            "  Attempting uninstall: openai\n",
            "    Found existing installation: openai 1.51.2\n",
            "    Uninstalling openai-1.51.2:\n",
            "      Successfully uninstalled openai-1.51.2\n",
            "\u001b[31mERROR: pip's dependency resolver does not currently take into account all the packages that are installed. This behaviour is the source of the following dependency conflicts.\n",
            "langchain-openai 0.2.2 requires openai<2.0.0,>=1.40.0, but you have openai 0.28.0 which is incompatible.\u001b[0m\u001b[31m\n",
            "\u001b[0mSuccessfully installed openai-0.28.0\n"
          ]
        }
      ],
      "source": [
        "!pip install pydantic pytest openai==0.28"
      ]
    },
    {
      "cell_type": "markdown",
      "source": [
        "# Implement the Mediatation Agent to Generate Structured Outputs"
      ],
      "metadata": {
        "id": "8TM13iivRKTL"
      }
    },
    {
      "cell_type": "code",
      "source": [
        "import openai\n",
        "from google.colab import userdata\n",
        "# Securely input your OpenAI API key\n",
        "api_key = userdata.get('OPENAI_API_KEY')\n",
        "openai.api_key = api_key\n"
      ],
      "metadata": {
        "id": "3uxmChxPU_WE"
      },
      "execution_count": null,
      "outputs": []
    },
    {
      "cell_type": "code",
      "source": [
        "# List available models\n",
        "models = openai.Model.list()\n",
        "print([model['id'] for model in models['data']])"
      ],
      "metadata": {
        "colab": {
          "base_uri": "https://localhost:8080/"
        },
        "id": "ItCwlZB7YYpQ",
        "outputId": "9ba2459e-e11e-4ac7-ab63-2ca20d830326"
      },
      "execution_count": null,
      "outputs": [
        {
          "output_type": "stream",
          "name": "stdout",
          "text": [
            "['gpt-4-turbo', 'gpt-4o-mini-2024-07-18', 'gpt-4-turbo-2024-04-09', 'tts-1', 'tts-1-1106', 'chatgpt-4o-latest', 'dall-e-2', 'gpt-4-turbo-preview', 'gpt-3.5-turbo-instruct', 'gpt-4-0125-preview', 'gpt-3.5-turbo-0125', 'gpt-4o-2024-08-06', 'gpt-4o', 'gpt-3.5-turbo', 'babbage-002', 'davinci-002', 'gpt-4o-realtime-preview-2024-10-01', 'dall-e-3', 'gpt-4o-realtime-preview', 'gpt-4o-2024-05-13', 'tts-1-hd', 'tts-1-hd-1106', 'gpt-4-1106-preview', 'text-embedding-ada-002', 'gpt-4o-mini', 'gpt-3.5-turbo-16k', 'text-embedding-3-small', 'text-embedding-3-large', 'whisper-1', 'gpt-3.5-turbo-1106', 'gpt-4-0613', 'gpt-4', 'gpt-3.5-turbo-instruct-0914']\n"
          ]
        }
      ]
    },
    {
      "cell_type": "markdown",
      "source": [
        "# Define the Pydantic Model"
      ],
      "metadata": {
        "id": "MZfy4PyqQxvG"
      }
    },
    {
      "cell_type": "code",
      "source": [
        "from pydantic import BaseModel, ValidationError\n",
        "from typing import List\n",
        "\n",
        "class Phrase(BaseModel):\n",
        "    text: str\n",
        "    pause: int  # milliseconds\n",
        "    tts_duration: int  # milliseconds\n",
        "\n",
        "class MeditationScript(BaseModel):\n",
        "    title: str\n",
        "    duration: int  # milliseconds\n",
        "    focus_area: str\n",
        "    phrases: List[Phrase]\n",
        "    interval: int  # Default interval between phrases in milliseconds\n",
        "    engagement: int  # Engagement level(0-100)\n"
      ],
      "metadata": {
        "id": "7yvLHvHAVLvp"
      },
      "execution_count": null,
      "outputs": []
    },
    {
      "cell_type": "markdown",
      "source": [
        "# Helper function to call open ai api to validate response"
      ],
      "metadata": {
        "id": "1fLfJSlNX2q_"
      }
    },
    {
      "cell_type": "code",
      "source": [
        "import openai\n",
        "import json\n",
        "\n",
        "def call_openai_for_meditation_script(prompt: str):\n",
        "    response_format = {\n",
        "        \"type\": \"json_schema\",\n",
        "        \"json_schema\": {\n",
        "            \"name\": \"meditation_response\",\n",
        "            \"schema\": {\n",
        "                \"type\": \"object\",\n",
        "                \"properties\": {\n",
        "                    \"title\": {\"type\": \"string\"},\n",
        "                    \"duration\": {\"type\": \"integer\"},  # Duration in milliseconds\n",
        "                    \"focus_area\": {\"type\": \"string\"},\n",
        "                    \"phrases\": {\n",
        "                        \"type\": \"array\",\n",
        "                        \"items\": {\n",
        "                            \"type\": \"object\",\n",
        "                            \"properties\": {\n",
        "                                \"text\": {\"type\": \"string\"},\n",
        "                                \"pause\": {\"type\": \"integer\"},  # Pause in milliseconds\n",
        "                                \"tts_duration\": {\"type\": \"integer\"}  # Duration for TTS in milliseconds\n",
        "                            },\n",
        "                            \"required\": [\"text\", \"pause\", \"tts_duration\"],\n",
        "                            \"additionalProperties\": False\n",
        "                        }\n",
        "                    },\n",
        "                    \"interval\": {\"type\": \"integer\"},  # Default interval between phrases\n",
        "                    \"engagement\": {\"type\": \"integer\"}  # Engagement level, 0-100\n",
        "                },\n",
        "                \"required\": [\"title\", \"duration\", \"focus_area\", \"phrases\", \"interval\", \"engagement\"],\n",
        "                \"additionalProperties\": False\n",
        "            },\n",
        "            \"strict\": True\n",
        "        }\n",
        "    }\n",
        "\n",
        "    try:\n",
        "        response = openai.ChatCompletion.create(\n",
        "            model=\"gpt-4o-2024-08-06\",  # Adjust model version\n",
        "            messages=[\n",
        "                {\"role\": \"system\", \"content\": \"You are a mindfulness meditation assistant that generates structured outputs for meditation scripts.\"},\n",
        "                {\"role\": \"user\", \"content\": prompt},\n",
        "            ],\n",
        "            response_format=response_format,\n",
        "            max_tokens=1000,\n",
        "            temperature=0.7\n",
        "        )\n",
        "\n",
        "        structured_output = json.loads(response.choices[0].message['content'])\n",
        "        return structured_output\n",
        "    except Exception as e:\n",
        "        print(f\"OpenAI API call failed: {e}\")\n",
        "        return None\n"
      ],
      "metadata": {
        "id": "d6mUtUoBX_d8"
      },
      "execution_count": null,
      "outputs": []
    },
    {
      "cell_type": "markdown",
      "source": [
        "# Validated the data with Pydantic"
      ],
      "metadata": {
        "id": "w11ZWXWOYKXs"
      }
    },
    {
      "cell_type": "code",
      "source": [
        "def validate_meditation_script(data):\n",
        "    try:\n",
        "        meditation_script = MeditationScript(**data)\n",
        "        return meditation_script\n",
        "    except ValidationError as e:\n",
        "        print(f\"Validation error: {e}\")\n",
        "        return None\n"
      ],
      "metadata": {
        "id": "-h8c6V94YShh"
      },
      "execution_count": null,
      "outputs": []
    },
    {
      "cell_type": "markdown",
      "source": [
        "# Check the duration"
      ],
      "metadata": {
        "id": "ale0AAWEYUoB"
      }
    },
    {
      "cell_type": "code",
      "source": [
        "def check_duration(meditation_script):\n",
        "    total_time = sum(phrase.pause + phrase.tts_duration for phrase in meditation_script.phrases)\n",
        "\n",
        "    # Check if total time is close to the specified duration\n",
        "    if abs(total_time - meditation_script.duration) > meditation_script.interval:\n",
        "        # If there's a significant difference, return False to indicate an adjustment is needed\n",
        "        return False\n",
        "    return True\n"
      ],
      "metadata": {
        "id": "pwfl3LDDYSxP"
      },
      "execution_count": null,
      "outputs": []
    },
    {
      "cell_type": "code",
      "source": [
        "def adjust_duration(meditation_script):\n",
        "    # Create a new prompt to adjust the total duration of the phrases\n",
        "    adjustment_prompt = (\n",
        "        f\"The total duration of the phrases does not match the requested {meditation_script.duration} milliseconds. \"\n",
        "        f\"Please adjust the durations of the phrases in the meditation script so that the total matches {meditation_script.duration} milliseconds, \"\n",
        "        f\"while keeping the original structure and intent.\"\n",
        "    )\n",
        "    return adjustment_prompt"
      ],
      "metadata": {
        "id": "bd19QJJRaJSt"
      },
      "execution_count": null,
      "outputs": []
    },
    {
      "cell_type": "code",
      "source": [
        "def convert_to_milliseconds(meditation_script: dict) -> dict:\n",
        "    \"\"\"\n",
        "    Convert the duration, pause times, and tts_duration in the meditation script from seconds to milliseconds.\n",
        "    \"\"\"\n",
        "    # Convert duration from seconds to milliseconds\n",
        "    if \"duration\" in meditation_script:\n",
        "        meditation_script[\"duration\"] = meditation_script[\"duration\"] * 1000\n",
        "\n",
        "    # Convert interval from seconds to milliseconds, if it exists\n",
        "    if \"interval\" in meditation_script:\n",
        "        meditation_script[\"interval\"] = meditation_script[\"interval\"] * 1000\n",
        "\n",
        "    # Convert each phrase's pause time and tts_duration from seconds to milliseconds\n",
        "    for phrase in meditation_script.get(\"phrases\", []):\n",
        "        if \"pause\" in phrase:\n",
        "            phrase[\"pause\"] = phrase[\"pause\"] * 1000\n",
        "        if \"tts_duration\" in phrase:\n",
        "            phrase[\"tts_duration\"] = phrase[\"tts_duration\"] * 1000\n",
        "\n",
        "    return meditation_script\n"
      ],
      "metadata": {
        "id": "eSQsBDuLblH3"
      },
      "execution_count": null,
      "outputs": []
    },
    {
      "cell_type": "markdown",
      "source": [
        "# Generate meditation script"
      ],
      "metadata": {
        "id": "8opzBO-cYqco"
      }
    },
    {
      "cell_type": "code",
      "source": [
        "def generate_meditation_script(prompt: str):\n",
        "    # Call OpenAI to generate a meditation script based on the user input\n",
        "    structured_output = call_openai_for_meditation_script(prompt)\n",
        "\n",
        "    if not structured_output:\n",
        "        print(\"Failed to retrieve a structured output from OpenAI.\")\n",
        "        return None\n",
        "\n",
        "    # Convert duration, pause times, and tts_duration to milliseconds\n",
        "    converted_output = convert_to_milliseconds(structured_output)\n",
        "    # Validate the structured response using Pydantic models\n",
        "    meditation_script = validate_meditation_script(converted_output)\n",
        "\n",
        "    if not meditation_script:\n",
        "        print(\"Failed to validate the structured output.\")\n",
        "        return None\n",
        "\n",
        "    # Loop to ensure the total duration of the phrases matches the expected duration\n",
        "    while not check_duration(meditation_script):\n",
        "        print(\"Adjusting script as durations don't match...\")\n",
        "\n",
        "        # Generate an adjustment prompt based on the previous meditation script\n",
        "        adjustment_prompt = adjust_duration(meditation_script)\n",
        "\n",
        "        # Call OpenAI again with the new prompt to adjust the script\n",
        "        structured_output = call_openai_for_meditation_script(adjustment_prompt)\n",
        "        # Convert duration, pause times, and tts_duration to milliseconds\n",
        "        # converted_output = convert_to_milliseconds(structured_output)\n",
        "\n",
        "\n",
        "        # Validate the new structured output\n",
        "        meditation_script = validate_meditation_script(structured_output)\n",
        "\n",
        "        if not meditation_script:\n",
        "            print(\"Failed to validate the adjusted structured output.\")\n",
        "            return None\n",
        "\n",
        "    # Return the final, validated meditation script with the correct duration\n",
        "    return meditation_script"
      ],
      "metadata": {
        "id": "IAo5N3GDYS0_"
      },
      "execution_count": null,
      "outputs": []
    },
    {
      "cell_type": "markdown",
      "source": [
        "# Test the meditation script"
      ],
      "metadata": {
        "id": "LXPReehqaz4E"
      }
    },
    {
      "cell_type": "code",
      "source": [
        "prompt = \"Create a 120-second breath awareness meditation focused on relaxation.\"\n",
        "meditation_script = generate_meditation_script(prompt)\n",
        "\n",
        "if meditation_script:\n",
        "    # Print the structured and validated output\n",
        "    print(meditation_script.model_dump_json(indent=2))\n",
        "else:\n",
        "    print(\"Failed to generate a valid meditation script.\")\n"
      ],
      "metadata": {
        "colab": {
          "base_uri": "https://localhost:8080/"
        },
        "id": "VyZI0yrZZHYK",
        "outputId": "ef9179bb-3e97-462b-8997-300f9bc3839a"
      },
      "execution_count": null,
      "outputs": [
        {
          "output_type": "stream",
          "name": "stdout",
          "text": [
            "Adjusting script as durations don't match...\n",
            "Adjusting script as durations don't match...\n",
            "Adjusting script as durations don't match...\n",
            "Adjusting script as durations don't match...\n",
            "Adjusting script as durations don't match...\n",
            "Adjusting script as durations don't match...\n",
            "Adjusting script as durations don't match...\n",
            "Adjusting script as durations don't match...\n",
            "Adjusting script as durations don't match...\n",
            "Adjusting script as durations don't match...\n",
            "{\n",
            "  \"title\": \"Guided Mindfulness Meditation\",\n",
            "  \"duration\": 120000,\n",
            "  \"focus_area\": \"Breath Awareness\",\n",
            "  \"phrases\": [\n",
            "    {\n",
            "      \"text\": \"Close your eyes gently and take a deep breath in.\",\n",
            "      \"pause\": 2000,\n",
            "      \"tts_duration\": 6000\n",
            "    },\n",
            "    {\n",
            "      \"text\": \"Hold it for a moment, and now, slowly release.\",\n",
            "      \"pause\": 3000,\n",
            "      \"tts_duration\": 5000\n",
            "    },\n",
            "    {\n",
            "      \"text\": \"Feel the tension leaving your body with each exhale.\",\n",
            "      \"pause\": 4000,\n",
            "      \"tts_duration\": 5000\n",
            "    },\n",
            "    {\n",
            "      \"text\": \"Bring your attention to the natural rhythm of your breathing.\",\n",
            "      \"pause\": 3000,\n",
            "      \"tts_duration\": 5000\n",
            "    },\n",
            "    {\n",
            "      \"text\": \"Notice how your chest rises and falls with each breath.\",\n",
            "      \"pause\": 3000,\n",
            "      \"tts_duration\": 5000\n",
            "    },\n",
            "    {\n",
            "      \"text\": \"If your mind wanders, gently bring it back to the breath.\",\n",
            "      \"pause\": 3000,\n",
            "      \"tts_duration\": 5000\n",
            "    },\n",
            "    {\n",
            "      \"text\": \"With each breath, feel more relaxed and at peace.\",\n",
            "      \"pause\": 3000,\n",
            "      \"tts_duration\": 5000\n",
            "    },\n",
            "    {\n",
            "      \"text\": \"Let your thoughts float by like clouds in the sky.\",\n",
            "      \"pause\": 3000,\n",
            "      \"tts_duration\": 5000\n",
            "    },\n",
            "    {\n",
            "      \"text\": \"Focus on the sensation of air entering and leaving your nostrils.\",\n",
            "      \"pause\": 3000,\n",
            "      \"tts_duration\": 5000\n",
            "    },\n",
            "    {\n",
            "      \"text\": \"Allow yourself to be present in this moment, without judgment.\",\n",
            "      \"pause\": 2000,\n",
            "      \"tts_duration\": 5000\n",
            "    },\n",
            "    {\n",
            "      \"text\": \"Feel the weight of your body supported by the ground.\",\n",
            "      \"pause\": 3000,\n",
            "      \"tts_duration\": 5000\n",
            "    },\n",
            "    {\n",
            "      \"text\": \"Inhale deeply once more, and exhale fully.\",\n",
            "      \"pause\": 2000,\n",
            "      \"tts_duration\": 5000\n",
            "    },\n",
            "    {\n",
            "      \"text\": \"When you're ready, gently bring your awareness back to the room.\",\n",
            "      \"pause\": 2000,\n",
            "      \"tts_duration\": 6000\n",
            "    },\n",
            "    {\n",
            "      \"text\": \"Open your eyes, feeling refreshed and centered.\",\n",
            "      \"pause\": 2000,\n",
            "      \"tts_duration\": 6000\n",
            "    }\n",
            "  ],\n",
            "  \"interval\": 10000,\n",
            "  \"engagement\": 80\n",
            "}\n"
          ]
        }
      ]
    },
    {
      "cell_type": "code",
      "source": [
        "prompt = \"Can u make a 90s mindfulness meditation.\"\n",
        "meditation_script = generate_meditation_script(prompt)\n",
        "\n",
        "if meditation_script:\n",
        "    # Print the structured and validated output\n",
        "    print(meditation_script.model_dump_json(indent=2))\n",
        "else:\n",
        "    print(\"Failed to generate a valid meditation script.\")\n"
      ],
      "metadata": {
        "colab": {
          "base_uri": "https://localhost:8080/"
        },
        "id": "kQhBIrcw5dZ-",
        "outputId": "267eada2-c48a-42dd-f9b8-899a51e57701"
      },
      "execution_count": null,
      "outputs": [
        {
          "output_type": "stream",
          "name": "stdout",
          "text": [
            "Adjusting script as durations don't match...\n",
            "Adjusting script as durations don't match...\n",
            "Adjusting script as durations don't match...\n",
            "Adjusting script as durations don't match...\n",
            "{\n",
            "  \"title\": \"Brief Mindfulness Pause\",\n",
            "  \"duration\": 90,\n",
            "  \"focus_area\": \"Breath Awareness\",\n",
            "  \"phrases\": [\n",
            "    {\n",
            "      \"text\": \"Take a deep breath in.\",\n",
            "      \"pause\": 10,\n",
            "      \"tts_duration\": 30\n",
            "    },\n",
            "    {\n",
            "      \"text\": \"Hold it gently.\",\n",
            "      \"pause\": 10,\n",
            "      \"tts_duration\": 20\n",
            "    },\n",
            "    {\n",
            "      \"text\": \"Now, slowly exhale.\",\n",
            "      \"pause\": 10,\n",
            "      \"tts_duration\": 40\n",
            "    }\n",
            "  ],\n",
            "  \"interval\": 30,\n",
            "  \"engagement\": 2\n",
            "}\n"
          ]
        }
      ]
    },
    {
      "cell_type": "markdown",
      "source": [
        "# Implement with this LangGraph\n",
        "\n",
        "\n"
      ],
      "metadata": {
        "id": "Vpt2eZCKcmQ2"
      }
    },
    {
      "cell_type": "code",
      "source": [
        "!pip install langgraph langsmith langchain langchain_groq langchain_community"
      ],
      "metadata": {
        "colab": {
          "base_uri": "https://localhost:8080/"
        },
        "id": "f_e4ojM8fiTu",
        "outputId": "be1373f6-6ed7-4e24-a8b9-536bf1515cc3"
      },
      "execution_count": null,
      "outputs": [
        {
          "output_type": "stream",
          "name": "stdout",
          "text": [
            "Requirement already satisfied: langgraph in /usr/local/lib/python3.10/dist-packages (0.2.38)\n",
            "Requirement already satisfied: langsmith in /usr/local/lib/python3.10/dist-packages (0.1.135)\n",
            "Requirement already satisfied: langchain in /usr/local/lib/python3.10/dist-packages (0.3.3)\n",
            "Requirement already satisfied: langchain_groq in /usr/local/lib/python3.10/dist-packages (0.2.0)\n",
            "Requirement already satisfied: langchain_community in /usr/local/lib/python3.10/dist-packages (0.3.2)\n",
            "Requirement already satisfied: langchain-core<0.4,>=0.2.39 in /usr/local/lib/python3.10/dist-packages (from langgraph) (0.3.10)\n",
            "Requirement already satisfied: langgraph-checkpoint<3.0.0,>=2.0.0 in /usr/local/lib/python3.10/dist-packages (from langgraph) (2.0.1)\n",
            "Requirement already satisfied: langgraph-sdk<0.2.0,>=0.1.32 in /usr/local/lib/python3.10/dist-packages (from langgraph) (0.1.33)\n",
            "Requirement already satisfied: httpx<1,>=0.23.0 in /usr/local/lib/python3.10/dist-packages (from langsmith) (0.27.2)\n",
            "Requirement already satisfied: orjson<4.0.0,>=3.9.14 in /usr/local/lib/python3.10/dist-packages (from langsmith) (3.10.7)\n",
            "Requirement already satisfied: pydantic<3,>=1 in /usr/local/lib/python3.10/dist-packages (from langsmith) (2.9.2)\n",
            "Requirement already satisfied: requests<3,>=2 in /usr/local/lib/python3.10/dist-packages (from langsmith) (2.32.3)\n",
            "Requirement already satisfied: requests-toolbelt<2.0.0,>=1.0.0 in /usr/local/lib/python3.10/dist-packages (from langsmith) (1.0.0)\n",
            "Requirement already satisfied: PyYAML>=5.3 in /usr/local/lib/python3.10/dist-packages (from langchain) (6.0.2)\n",
            "Requirement already satisfied: SQLAlchemy<3,>=1.4 in /usr/local/lib/python3.10/dist-packages (from langchain) (2.0.35)\n",
            "Requirement already satisfied: aiohttp<4.0.0,>=3.8.3 in /usr/local/lib/python3.10/dist-packages (from langchain) (3.10.10)\n",
            "Requirement already satisfied: async-timeout<5.0.0,>=4.0.0 in /usr/local/lib/python3.10/dist-packages (from langchain) (4.0.3)\n",
            "Requirement already satisfied: langchain-text-splitters<0.4.0,>=0.3.0 in /usr/local/lib/python3.10/dist-packages (from langchain) (0.3.0)\n",
            "Requirement already satisfied: numpy<2,>=1 in /usr/local/lib/python3.10/dist-packages (from langchain) (1.26.4)\n",
            "Requirement already satisfied: tenacity!=8.4.0,<9.0.0,>=8.1.0 in /usr/local/lib/python3.10/dist-packages (from langchain) (8.5.0)\n",
            "Requirement already satisfied: groq<1,>=0.4.1 in /usr/local/lib/python3.10/dist-packages (from langchain_groq) (0.11.0)\n",
            "Requirement already satisfied: dataclasses-json<0.7,>=0.5.7 in /usr/local/lib/python3.10/dist-packages (from langchain_community) (0.6.7)\n",
            "Requirement already satisfied: pydantic-settings<3.0.0,>=2.4.0 in /usr/local/lib/python3.10/dist-packages (from langchain_community) (2.5.2)\n",
            "Requirement already satisfied: aiohappyeyeballs>=2.3.0 in /usr/local/lib/python3.10/dist-packages (from aiohttp<4.0.0,>=3.8.3->langchain) (2.4.3)\n",
            "Requirement already satisfied: aiosignal>=1.1.2 in /usr/local/lib/python3.10/dist-packages (from aiohttp<4.0.0,>=3.8.3->langchain) (1.3.1)\n",
            "Requirement already satisfied: attrs>=17.3.0 in /usr/local/lib/python3.10/dist-packages (from aiohttp<4.0.0,>=3.8.3->langchain) (24.2.0)\n",
            "Requirement already satisfied: frozenlist>=1.1.1 in /usr/local/lib/python3.10/dist-packages (from aiohttp<4.0.0,>=3.8.3->langchain) (1.4.1)\n",
            "Requirement already satisfied: multidict<7.0,>=4.5 in /usr/local/lib/python3.10/dist-packages (from aiohttp<4.0.0,>=3.8.3->langchain) (6.1.0)\n",
            "Requirement already satisfied: yarl<2.0,>=1.12.0 in /usr/local/lib/python3.10/dist-packages (from aiohttp<4.0.0,>=3.8.3->langchain) (1.14.0)\n",
            "Requirement already satisfied: marshmallow<4.0.0,>=3.18.0 in /usr/local/lib/python3.10/dist-packages (from dataclasses-json<0.7,>=0.5.7->langchain_community) (3.22.0)\n",
            "Requirement already satisfied: typing-inspect<1,>=0.4.0 in /usr/local/lib/python3.10/dist-packages (from dataclasses-json<0.7,>=0.5.7->langchain_community) (0.9.0)\n",
            "Requirement already satisfied: anyio<5,>=3.5.0 in /usr/local/lib/python3.10/dist-packages (from groq<1,>=0.4.1->langchain_groq) (3.7.1)\n",
            "Requirement already satisfied: distro<2,>=1.7.0 in /usr/lib/python3/dist-packages (from groq<1,>=0.4.1->langchain_groq) (1.7.0)\n",
            "Requirement already satisfied: sniffio in /usr/local/lib/python3.10/dist-packages (from groq<1,>=0.4.1->langchain_groq) (1.3.1)\n",
            "Requirement already satisfied: typing-extensions<5,>=4.7 in /usr/local/lib/python3.10/dist-packages (from groq<1,>=0.4.1->langchain_groq) (4.12.2)\n",
            "Requirement already satisfied: certifi in /usr/local/lib/python3.10/dist-packages (from httpx<1,>=0.23.0->langsmith) (2024.8.30)\n",
            "Requirement already satisfied: httpcore==1.* in /usr/local/lib/python3.10/dist-packages (from httpx<1,>=0.23.0->langsmith) (1.0.6)\n",
            "Requirement already satisfied: idna in /usr/local/lib/python3.10/dist-packages (from httpx<1,>=0.23.0->langsmith) (3.10)\n",
            "Requirement already satisfied: h11<0.15,>=0.13 in /usr/local/lib/python3.10/dist-packages (from httpcore==1.*->httpx<1,>=0.23.0->langsmith) (0.14.0)\n",
            "Requirement already satisfied: jsonpatch<2.0,>=1.33 in /usr/local/lib/python3.10/dist-packages (from langchain-core<0.4,>=0.2.39->langgraph) (1.33)\n",
            "Requirement already satisfied: packaging<25,>=23.2 in /usr/local/lib/python3.10/dist-packages (from langchain-core<0.4,>=0.2.39->langgraph) (24.1)\n",
            "Requirement already satisfied: msgpack<2.0.0,>=1.1.0 in /usr/local/lib/python3.10/dist-packages (from langgraph-checkpoint<3.0.0,>=2.0.0->langgraph) (1.1.0)\n",
            "Requirement already satisfied: httpx-sse>=0.4.0 in /usr/local/lib/python3.10/dist-packages (from langgraph-sdk<0.2.0,>=0.1.32->langgraph) (0.4.0)\n",
            "Requirement already satisfied: annotated-types>=0.6.0 in /usr/local/lib/python3.10/dist-packages (from pydantic<3,>=1->langsmith) (0.7.0)\n",
            "Requirement already satisfied: pydantic-core==2.23.4 in /usr/local/lib/python3.10/dist-packages (from pydantic<3,>=1->langsmith) (2.23.4)\n",
            "Requirement already satisfied: python-dotenv>=0.21.0 in /usr/local/lib/python3.10/dist-packages (from pydantic-settings<3.0.0,>=2.4.0->langchain_community) (1.0.1)\n",
            "Requirement already satisfied: charset-normalizer<4,>=2 in /usr/local/lib/python3.10/dist-packages (from requests<3,>=2->langsmith) (3.4.0)\n",
            "Requirement already satisfied: urllib3<3,>=1.21.1 in /usr/local/lib/python3.10/dist-packages (from requests<3,>=2->langsmith) (2.2.3)\n",
            "Requirement already satisfied: greenlet!=0.4.17 in /usr/local/lib/python3.10/dist-packages (from SQLAlchemy<3,>=1.4->langchain) (3.1.1)\n",
            "Requirement already satisfied: exceptiongroup in /usr/local/lib/python3.10/dist-packages (from anyio<5,>=3.5.0->groq<1,>=0.4.1->langchain_groq) (1.2.2)\n",
            "Requirement already satisfied: jsonpointer>=1.9 in /usr/local/lib/python3.10/dist-packages (from jsonpatch<2.0,>=1.33->langchain-core<0.4,>=0.2.39->langgraph) (3.0.0)\n",
            "Requirement already satisfied: mypy-extensions>=0.3.0 in /usr/local/lib/python3.10/dist-packages (from typing-inspect<1,>=0.4.0->dataclasses-json<0.7,>=0.5.7->langchain_community) (1.0.0)\n",
            "Requirement already satisfied: propcache>=0.2.0 in /usr/local/lib/python3.10/dist-packages (from yarl<2.0,>=1.12.0->aiohttp<4.0.0,>=3.8.3->langchain) (0.2.0)\n"
          ]
        }
      ]
    },
    {
      "cell_type": "code",
      "source": [
        "from google.colab import userdata\n",
        "langsmith=userdata.get('LANGCHAIN_API_KEY')\n",
        "print(langsmith)"
      ],
      "metadata": {
        "colab": {
          "base_uri": "https://localhost:8080/"
        },
        "id": "19Eo9DMnmDMg",
        "outputId": "89ef9a7c-4ea6-4694-ca5c-8305de3fbe5a"
      },
      "execution_count": null,
      "outputs": [
        {
          "output_type": "stream",
          "name": "stdout",
          "text": [
            "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\n"
          ]
        }
      ]
    },
    {
      "cell_type": "code",
      "source": [
        "from typing import Annotated\n",
        "from langgraph.graph import StateGraph, START, END\n",
        "from langgraph.graph.message import add_messages\n",
        "from pydantic import BaseModel, ValidationError\n",
        "from typing import List\n",
        "import openai\n",
        "import os"
      ],
      "metadata": {
        "id": "nYXBOvyVmC_c"
      },
      "execution_count": null,
      "outputs": []
    },
    {
      "cell_type": "code",
      "source": [
        "os.environ[\"LANGCHAIN_API_KEY\"] = langsmith\n",
        "os.environ[\"LANGCHAIN_TRACING_V2\"]=\"true\"\n",
        "os.environ[\"LANGCHAIN_PROJECT\"]=\"meditation-agent\""
      ],
      "metadata": {
        "id": "l-VJg-W7mCtR"
      },
      "execution_count": null,
      "outputs": []
    },
    {
      "cell_type": "code",
      "source": [
        "from typing import Annotated\n",
        "from typing_extensions import TypedDict\n",
        "from langgraph.graph import StateGraph,START,END\n",
        "from langgraph.graph.message import add_messages\n",
        "\n",
        "# Initialize ChatGroq using the Groq API key\n",
        "# llm = ChatGroq(groq_api_key=os.getenv(\"GROQ_API_KEY\"), model_name=\"Gemma2-9b-It\")\n",
        "\n",
        "# Define the state dictionary with \"messages\" annotated for the message list\n",
        "class State(TypedDict):\n",
        "    messages: Annotated[list, add_messages]\n",
        "\n",
        "\n"
      ],
      "metadata": {
        "id": "yI1VBhvRxAfu"
      },
      "execution_count": null,
      "outputs": []
    },
    {
      "cell_type": "code",
      "source": [
        "graph_builder=StateGraph(State)\n"
      ],
      "metadata": {
        "id": "bGf0ja8fukZ_"
      },
      "execution_count": null,
      "outputs": []
    },
    {
      "cell_type": "code",
      "source": [
        "graph_builder"
      ],
      "metadata": {
        "colab": {
          "base_uri": "https://localhost:8080/"
        },
        "id": "KhSDw20tuzT0",
        "outputId": "5ef98cf9-cdda-4c4e-fe61-55ed27a979e9"
      },
      "execution_count": null,
      "outputs": [
        {
          "output_type": "execute_result",
          "data": {
            "text/plain": [
              "<langgraph.graph.state.StateGraph at 0x7d7e2e4b9cc0>"
            ]
          },
          "metadata": {},
          "execution_count": 19
        }
      ]
    },
    {
      "cell_type": "code",
      "source": [
        "def generate_meditation_script(state: State):\n",
        "    user_input = state[\"messages\"][-1]\n",
        "\n",
        "    # Call the OpenAI API function\n",
        "    generated_script = call_openai_for_meditation_script(user_input)\n",
        "\n",
        "    if generated_script:\n",
        "        # Ensure that the output is in JSON format\n",
        "        try:\n",
        "            meditation_script_json = json.loads(generated_script)\n",
        "            state[\"messages\"].append(meditation_script_json)\n",
        "            return {\"messages\": meditation_script_json}\n",
        "        except json.JSONDecodeError as e:\n",
        "            return {\"messages\": f\"Error parsing meditation script JSON: {e}\"}\n",
        "    else:\n",
        "        return {\"messages\": \"Error generating meditation script.\"}\n",
        "\n",
        "\n",
        "# Add the OpenAI node to the state graph\n",
        "graph_builder.add_node(\"generate_meditation_script\", generate_meditation_script)\n",
        "\n",
        "\n",
        "# Validation Node to check and validate the structured output using Pydantic\n",
        "def validate_meditation_script(state: State):\n",
        "    script_content = state['messages'][-1]\n",
        "\n",
        "    try:\n",
        "        # Validate the script content using Pydantic\n",
        "        validated_script = MeditationScript(**script_content)\n",
        "        state[\"messages\"].append(validated_script.dict())\n",
        "        return {\"messages\": f\"Validated meditation script: {validated_script.dict()}\"}\n",
        "    except ValidationError as e:\n",
        "        return {\"messages\": f\"Validation Error: {e}\"}\n",
        "\n",
        "# Add the validation node to the graph\n",
        "graph_builder.add_node(\"validate_meditation_script\", validate_meditation_script)\n",
        "\n",
        "\n",
        "# Adjust the total duration of the meditation script phrases\n",
        "def adjust_duration(meditation_script):\n",
        "    # Create a new prompt to adjust the total duration of the phrases\n",
        "    adjustment_prompt = (\n",
        "        f\"The total duration of the phrases does not match the requested {meditation_script['duration']} milliseconds. \"\n",
        "        f\"Please adjust the durations of the phrases in the meditation script so that the total matches {meditation_script['duration']} milliseconds, \"\n",
        "        f\"while keeping the original structure and intent.\"\n",
        "    )\n",
        "    return adjustment_prompt\n",
        "\n",
        "# User feedback and adjustment for meditation script\n",
        "def adjust_script(state: State):\n",
        "    # Get the generated meditation script from the state\n",
        "    meditation_script = state['messages'][-1]\n",
        "\n",
        "    # Check if the total duration of the phrases matches the requested duration\n",
        "    total_phrase_duration = sum(phrase['pause'] + phrase['tts_duration'] for phrase in meditation_script['phrases'])\n",
        "\n",
        "    # If total duration doesn't match, adjust the script\n",
        "    if total_phrase_duration != meditation_script['duration']:\n",
        "        adjustment_prompt = adjust_duration(meditation_script)\n",
        "        # Call OpenAI again to adjust the durations based on the feedback\n",
        "        adjusted_script = call_openai_for_meditation_script(adjustment_prompt)\n",
        "        try:\n",
        "            adjusted_script_json = json.loads(adjusted_script)\n",
        "            state[\"messages\"].append(adjusted_script_json)\n",
        "            return {\"messages\": adjusted_script_json}\n",
        "        except json.JSONDecodeError as e:\n",
        "            return {\"messages\": f\"Error parsing adjusted script JSON: {e}\"}\n",
        "    else:\n",
        "        return {\"messages\": \"No adjustments needed. The script duration matches the requested total.\"}\n",
        "\n",
        "# Add adjustment node to the graph\n",
        "graph_builder.add_node(\"adjust_script\", adjust_script)\n",
        "\n",
        "\n"
      ],
      "metadata": {
        "colab": {
          "base_uri": "https://localhost:8080/"
        },
        "id": "uTqjv1-CuzJk",
        "outputId": "85648a79-e31e-4055-91a3-423ff9f7c78c"
      },
      "execution_count": null,
      "outputs": [
        {
          "output_type": "execute_result",
          "data": {
            "text/plain": [
              "<langgraph.graph.state.StateGraph at 0x7d7e2e4b9cc0>"
            ]
          },
          "metadata": {},
          "execution_count": 20
        }
      ]
    },
    {
      "cell_type": "code",
      "source": [
        "# Define transitions between states\n",
        "graph_builder.add_edge(START, \"generate_meditation_script\")\n",
        "graph_builder.add_edge(\"generate_meditation_script\", \"validate_meditation_script\")\n",
        "graph_builder.add_edge(\"validate_meditation_script\", \"adjust_script\")\n",
        "graph_builder.add_edge(\"adjust_script\", END)\n",
        "graph=graph_builder.compile()"
      ],
      "metadata": {
        "id": "5K7uuUU0xtNH"
      },
      "execution_count": null,
      "outputs": []
    },
    {
      "cell_type": "code",
      "source": [
        "from IPython.display import Image, display\n",
        "try:\n",
        "  display(Image(graph.get_graph().draw_mermaid_png()))\n",
        "except Exception:\n",
        "  pass"
      ],
      "metadata": {
        "colab": {
          "base_uri": "https://localhost:8080/",
          "height": 449
        },
        "id": "84nUBpUWxtFJ",
        "outputId": "b642262a-02c0-4797-beef-6ef6ce707ee0"
      },
      "execution_count": null,
      "outputs": [
        {
          "output_type": "display_data",
          "data": {
            "image/jpeg": "[encoded data removed]",
            "text/plain": [
              "<IPython.core.display.Image object>"
            ]
          },
          "metadata": {}
        }
      ]
    },
    {
      "cell_type": "code",
      "source": [],
      "metadata": {
        "id": "azPLFORzdwrg"
      },
      "execution_count": null,
      "outputs": []
    }
  ]
}