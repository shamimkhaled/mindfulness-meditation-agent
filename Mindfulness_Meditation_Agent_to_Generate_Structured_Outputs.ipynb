{
  "nbformat": 4,
  "nbformat_minor": 0,
  "metadata": {
    "colab": {
      "provenance": [],
      "gpuType": "T4",
      "authorship_tag": "ABX9TyMTUO1cov2n6UaxOjneJN3r",
      "include_colab_link": true
    },
    "kernelspec": {
      "name": "python3",
      "display_name": "Python 3"
    },
    "language_info": {
      "name": "python"
    },
    "accelerator": "GPU"
  },
  "cells": [
    {
      "cell_type": "markdown",
      "metadata": {
        "id": "view-in-github",
        "colab_type": "text"
      },
      "source": [
        "<a href=\"https://colab.research.google.com/github/shamimkhaled/mindfulness-meditation-agent/blob/main/Mindfulness_Meditation_Agent_to_Generate_Structured_Outputs.ipynb\" target=\"_parent\"><img src=\"https://colab.research.google.com/assets/colab-badge.svg\" alt=\"Open In Colab\"/></a>"
      ]
    },
    {
      "cell_type": "markdown",
      "source": [
        "# Install the necessary libraries"
      ],
      "metadata": {
        "id": "lfAZmYydQlAV"
      }
    },
    {
      "cell_type": "code",
      "execution_count": 39,
      "metadata": {
        "colab": {
          "base_uri": "https://localhost:8080/"
        },
        "id": "J9ExSM_xQg7v",
        "outputId": "416ff668-468a-40e9-99dc-59aa45c97083"
      },
      "outputs": [
        {
          "output_type": "stream",
          "name": "stdout",
          "text": [
            "Requirement already satisfied: pydantic in /usr/local/lib/python3.10/dist-packages (2.9.2)\n",
            "Requirement already satisfied: pytest in /usr/local/lib/python3.10/dist-packages (7.4.4)\n",
            "Requirement already satisfied: openai==0.28 in /usr/local/lib/python3.10/dist-packages (0.28.0)\n",
            "Requirement already satisfied: requests>=2.20 in /usr/local/lib/python3.10/dist-packages (from openai==0.28) (2.32.3)\n",
            "Requirement already satisfied: tqdm in /usr/local/lib/python3.10/dist-packages (from openai==0.28) (4.66.5)\n",
            "Requirement already satisfied: aiohttp in /usr/local/lib/python3.10/dist-packages (from openai==0.28) (3.10.8)\n",
            "Requirement already satisfied: annotated-types>=0.6.0 in /usr/local/lib/python3.10/dist-packages (from pydantic) (0.7.0)\n",
            "Requirement already satisfied: pydantic-core==2.23.4 in /usr/local/lib/python3.10/dist-packages (from pydantic) (2.23.4)\n",
            "Requirement already satisfied: typing-extensions>=4.6.1 in /usr/local/lib/python3.10/dist-packages (from pydantic) (4.12.2)\n",
            "Requirement already satisfied: iniconfig in /usr/local/lib/python3.10/dist-packages (from pytest) (2.0.0)\n",
            "Requirement already satisfied: packaging in /usr/local/lib/python3.10/dist-packages (from pytest) (24.1)\n",
            "Requirement already satisfied: pluggy<2.0,>=0.12 in /usr/local/lib/python3.10/dist-packages (from pytest) (1.5.0)\n",
            "Requirement already satisfied: exceptiongroup>=1.0.0rc8 in /usr/local/lib/python3.10/dist-packages (from pytest) (1.2.2)\n",
            "Requirement already satisfied: tomli>=1.0.0 in /usr/local/lib/python3.10/dist-packages (from pytest) (2.0.2)\n",
            "Requirement already satisfied: charset-normalizer<4,>=2 in /usr/local/lib/python3.10/dist-packages (from requests>=2.20->openai==0.28) (3.3.2)\n",
            "Requirement already satisfied: idna<4,>=2.5 in /usr/local/lib/python3.10/dist-packages (from requests>=2.20->openai==0.28) (3.10)\n",
            "Requirement already satisfied: urllib3<3,>=1.21.1 in /usr/local/lib/python3.10/dist-packages (from requests>=2.20->openai==0.28) (2.2.3)\n",
            "Requirement already satisfied: certifi>=2017.4.17 in /usr/local/lib/python3.10/dist-packages (from requests>=2.20->openai==0.28) (2024.8.30)\n",
            "Requirement already satisfied: aiohappyeyeballs>=2.3.0 in /usr/local/lib/python3.10/dist-packages (from aiohttp->openai==0.28) (2.4.3)\n",
            "Requirement already satisfied: aiosignal>=1.1.2 in /usr/local/lib/python3.10/dist-packages (from aiohttp->openai==0.28) (1.3.1)\n",
            "Requirement already satisfied: attrs>=17.3.0 in /usr/local/lib/python3.10/dist-packages (from aiohttp->openai==0.28) (24.2.0)\n",
            "Requirement already satisfied: frozenlist>=1.1.1 in /usr/local/lib/python3.10/dist-packages (from aiohttp->openai==0.28) (1.4.1)\n",
            "Requirement already satisfied: multidict<7.0,>=4.5 in /usr/local/lib/python3.10/dist-packages (from aiohttp->openai==0.28) (6.1.0)\n",
            "Requirement already satisfied: yarl<2.0,>=1.12.0 in /usr/local/lib/python3.10/dist-packages (from aiohttp->openai==0.28) (1.13.1)\n",
            "Requirement already satisfied: async-timeout<5.0,>=4.0 in /usr/local/lib/python3.10/dist-packages (from aiohttp->openai==0.28) (4.0.3)\n"
          ]
        }
      ],
      "source": [
        "!pip install pydantic pytest openai==0.28"
      ]
    },
    {
      "cell_type": "markdown",
      "source": [
        "# Define the Pydantic Model"
      ],
      "metadata": {
        "id": "MZfy4PyqQxvG"
      }
    },
    {
      "cell_type": "code",
      "source": [
        "from pydantic import BaseModel, Field\n",
        "from typing import List\n",
        "\n",
        "class Phrase(BaseModel):\n",
        "    text: str\n",
        "    pause: int  # milliseconds\n",
        "\n",
        "class MeditationScript(BaseModel):\n",
        "    duration: int  # milliseconds\n",
        "    focus_area: str\n",
        "    phrases: List[Phrase]\n"
      ],
      "metadata": {
        "id": "er8NeKTcQvXm"
      },
      "execution_count": 40,
      "outputs": []
    },
    {
      "cell_type": "markdown",
      "source": [
        "# Implement the Mediatation Agent to Generate Structured Outputs"
      ],
      "metadata": {
        "id": "8TM13iivRKTL"
      }
    },
    {
      "cell_type": "code",
      "source": [
        "import openai\n",
        "from getpass import getpass\n",
        "\n",
        "# Securely input your OpenAI API key\n",
        "api_key = getpass(\"Enter your OpenAI API key: \")\n",
        "openai.api_key = api_key\n"
      ],
      "metadata": {
        "colab": {
          "base_uri": "https://localhost:8080/"
        },
        "id": "3uxmChxPU_WE",
        "outputId": "6eec542e-3362-4e04-e892-e09865ef8071"
      },
      "execution_count": 42,
      "outputs": [
        {
          "name": "stdout",
          "output_type": "stream",
          "text": [
            "Enter your OpenAI API key: ··········\n"
          ]
        }
      ]
    },
    {
      "cell_type": "code",
      "source": [
        "# List available models\n",
        "models = openai.Model.list()\n",
        "print([model['id'] for model in models['data']])"
      ],
      "metadata": {
        "colab": {
          "base_uri": "https://localhost:8080/"
        },
        "id": "ItCwlZB7YYpQ",
        "outputId": "dae24a7e-cb95-451b-90f5-2c7b118e76e9"
      },
      "execution_count": 43,
      "outputs": [
        {
          "output_type": "stream",
          "name": "stdout",
          "text": [
            "['chatgpt-4o-latest', 'dall-e-2', 'gpt-4o-2024-08-06', 'gpt-4-turbo-preview', 'gpt-4o', 'gpt-3.5-turbo-instruct', 'tts-1', 'tts-1-1106', 'gpt-4-0125-preview', 'gpt-3.5-turbo-0125', 'gpt-3.5-turbo', 'babbage-002', 'davinci-002', 'dall-e-3', 'gpt-4-turbo-2024-04-09', 'tts-1-hd', 'tts-1-hd-1106', 'text-embedding-ada-002', 'gpt-3.5-turbo-16k', 'gpt-4-1106-preview', 'gpt-4o-realtime-preview-2024-10-01', 'text-embedding-3-small', 'whisper-1', 'text-embedding-3-large', 'gpt-4-turbo', 'gpt-4o-2024-05-13', 'gpt-3.5-turbo-1106', 'gpt-4-0613', 'gpt-4', 'gpt-3.5-turbo-instruct-0914', 'gpt-4o-mini', 'gpt-4o-realtime-preview', 'gpt-4o-mini-2024-07-18']\n"
          ]
        }
      ]
    },
    {
      "cell_type": "code",
      "source": [
        "        # Simulate structured data (you can dynamically parse it)\n",
        "        # structured_outputs = {\n",
        "        #     \"duration\": 45000,\n",
        "        #     \"focus_area\": \"relaxation\",\n",
        "        #     \"phrases\": [\n",
        "        #         {\"text\": \"Welcome to this meditation, take a deep breath in through your nose and out through your mouth.\", \"pause\": 2000},\n",
        "        #         {\"text\": \"Feel the air fill your lungs, and then release any tension or stress as you exhale.\", \"pause\": 2000},\n",
        "        #         {\"text\": \"Bring your attention to your body, starting from your toes and moving up to the top of your head.\", \"pause\": 2000},\n",
        "        #         {\"text\": \"As you breathe in, imagine fresh, calming energy entering your body.\", \"pause\": 2000},\n",
        "        #         {\"text\": \"As you breathe out, imagine any tension or stress leaving your body.\", \"pause\": 2000},\n",
        "        #         {\"text\": \"Allow your muscles to relax, starting from your toes and moving up to the top of your head.\", \"pause\": 4000},\n",
        "        #         {\"text\": \"Feel the weight of your body sinking into the ground, supported by the earth below.\", \"pause\": 3000},\n",
        "        #         {\"text\": \"Imagine yourself in a peaceful, safe place, surrounded by calm and serenity.\", \"pause\": 4000},\n",
        "        #         {\"text\": \"Stay here for a moment, breathing deeply and feeling the relaxation spread throughout your body.\", \"pause\": 6000},\n",
        "        #         {\"text\": \"When you're ready, slowly open your eyes, and take a deep breath in, feeling refreshed and renewed.\", \"pause\": 2000}\n",
        "        #     ]\n",
        "        # }"
      ],
      "metadata": {
        "id": "RIkphmEcSHTn"
      },
      "execution_count": 44,
      "outputs": []
    },
    {
      "cell_type": "code",
      "source": [
        "def convert_to_milliseconds(meditation_script: dict) -> dict:\n",
        "    \"\"\"\n",
        "    Convert the duration and pause times in the meditation script from seconds to milliseconds.\n",
        "    \"\"\"\n",
        "    # Convert duration from seconds to milliseconds\n",
        "    meditation_script[\"duration\"] = meditation_script[\"duration\"] * 1000\n",
        "\n",
        "    # Convert each phrase's pause time from seconds to milliseconds\n",
        "    for phrase in meditation_script[\"phrases\"]:\n",
        "        phrase[\"pause\"] = phrase[\"pause\"] * 1000\n",
        "\n",
        "    return meditation_script"
      ],
      "metadata": {
        "id": "jAiFYyAaVbRB"
      },
      "execution_count": 45,
      "outputs": []
    },
    {
      "cell_type": "code",
      "source": [
        "\n",
        "import openai\n",
        "from pydantic import ValidationError\n",
        "# from models import MeditationScript\n",
        "import json\n",
        "# Set your OpenAI API key\n",
        "# openai.api_key = 'your-openai-api-key-here'\n",
        "\n",
        "def generate_meditation_script(prompt: str) -> MeditationScript:\n",
        "    try:\n",
        "\n",
        "\n",
        "        # Check if the prompt is empty or invalid\n",
        "        if not prompt.strip():\n",
        "            print(\"Invalid prompt: The prompt cannot be empty.\")\n",
        "            return None\n",
        "\n",
        "        # Define the schema for the structured output\n",
        "        response_format = {\n",
        "            \"type\": \"json_schema\",\n",
        "            \"json_schema\": {\n",
        "                \"name\": \"meditation_response\",\n",
        "                \"schema\": {\n",
        "                    \"type\": \"object\",\n",
        "                    \"properties\": {\n",
        "                        \"duration\": {\"type\": \"integer\"},\n",
        "                        \"focus_area\": {\"type\": \"string\"},\n",
        "                        \"phrases\": {\n",
        "                            \"type\": \"array\",\n",
        "                            \"items\": {\n",
        "                                \"type\": \"object\",\n",
        "                                \"properties\": {\n",
        "                                    \"text\": {\"type\": \"string\"},\n",
        "                                    \"pause\": {\"type\": \"integer\"}\n",
        "                                },\n",
        "                                \"required\": [\"text\", \"pause\"],\n",
        "                                \"additionalProperties\": False\n",
        "                            }\n",
        "                        }\n",
        "                    },\n",
        "                    \"required\": [\"duration\", \"focus_area\", \"phrases\"],\n",
        "                    \"additionalProperties\": False\n",
        "                },\n",
        "                \"strict\": True\n",
        "            }\n",
        "        }\n",
        "\n",
        "        # Call OpenAI API to generate a response based on the prompt\n",
        "        response = openai.ChatCompletion.create(\n",
        "            model=\"gpt-4o-2024-08-06\",\n",
        "            messages=[\n",
        "                {\"role\": \"system\", \"content\": \"You are a mindfulness meditation assistant that provides structured outputs. Your role is to create clear and concise mindfulness meditation scripts, tailored to the user's request. Please ensure the output follows the structure of duration, focus_area, and phrases with pauses.\"},\n",
        "                {\"role\": \"user\", \"content\": prompt},\n",
        "            ],\n",
        "            response_format=response_format,\n",
        "            max_tokens=500,\n",
        "            temperature=0.7\n",
        "        )\n",
        "\n",
        "        # Extract the generated text\n",
        "        generated_text = response.choices[0].message['content']\n",
        "\n",
        "\n",
        "\n",
        "        # print(f\"Generated Text: {generated_text}\")  # Debug: Print the raw output\n",
        "\n",
        "        # Attempt to parse the JSON-like response into a structured format\n",
        "        structured_output = json.loads(generated_text)\n",
        "\n",
        "          # Convert duration and pause times to milliseconds\n",
        "        converted_output = convert_to_milliseconds(structured_output)\n",
        "\n",
        "\n",
        "\n",
        "        # Validate the structured data with Pydantic\n",
        "        meditation_script = MeditationScript(**converted_output)\n",
        "        return meditation_script\n",
        "\n",
        "    except ValidationError as e:\n",
        "        print(f\"Validation Error: {e}\")\n",
        "        return None\n",
        "    except Exception as e:\n",
        "        print(f\"An error occurred: {e}\")\n",
        "        return None\n"
      ],
      "metadata": {
        "id": "ZSAUedo1RSQr"
      },
      "execution_count": 46,
      "outputs": []
    },
    {
      "cell_type": "code",
      "source": [],
      "metadata": {
        "id": "7yvLHvHAVLvp"
      },
      "execution_count": 46,
      "outputs": []
    },
    {
      "cell_type": "markdown",
      "source": [
        "# Test the meditation script"
      ],
      "metadata": {
        "id": "LXPReehqaz4E"
      }
    },
    {
      "cell_type": "code",
      "source": [
        "# Define your prompt for the meditation script\n",
        "prompt = \"can you make a 60 second mindfulness meditation?\"\n",
        "\n",
        "# Generate the meditation script\n",
        "meditation_script = generate_meditation_script(prompt)\n",
        "\n",
        "# Display the structured meditation script\n",
        "if meditation_script:\n",
        "    print(meditation_script.model_dump_json(indent=2))\n",
        "else:\n",
        "    print(\"Failed to generate meditation script.\")"
      ],
      "metadata": {
        "colab": {
          "base_uri": "https://localhost:8080/"
        },
        "id": "KUvE0CJ3WcNx",
        "outputId": "dc45780d-dce5-4be8-b190-18f4395ba858"
      },
      "execution_count": 47,
      "outputs": [
        {
          "output_type": "stream",
          "name": "stdout",
          "text": [
            "{\n",
            "  \"duration\": 60000,\n",
            "  \"focus_area\": \"breath awareness\",\n",
            "  \"phrases\": [\n",
            "    {\n",
            "      \"text\": \"Find a comfortable seated position and gently close your eyes.\",\n",
            "      \"pause\": 5000\n",
            "    },\n",
            "    {\n",
            "      \"text\": \"Take a deep breath in through your nose, feeling your chest and belly expand.\",\n",
            "      \"pause\": 10000\n",
            "    },\n",
            "    {\n",
            "      \"text\": \"Hold the breath for a moment... and now slowly exhale through your mouth.\",\n",
            "      \"pause\": 10000\n",
            "    },\n",
            "    {\n",
            "      \"text\": \"With each breath, allow yourself to become more present in this moment.\",\n",
            "      \"pause\": 10000\n",
            "    },\n",
            "    {\n",
            "      \"text\": \"Notice the sensation of the air as it enters and leaves your body.\",\n",
            "      \"pause\": 10000\n",
            "    },\n",
            "    {\n",
            "      \"text\": \"If your mind wanders, gently bring your focus back to your breath.\",\n",
            "      \"pause\": 10000\n",
            "    },\n",
            "    {\n",
            "      \"text\": \"Take one more deep, calming breath in... and slowly release it.\",\n",
            "      \"pause\": 5000\n",
            "    }\n",
            "  ]\n",
            "}\n"
          ]
        }
      ]
    },
    {
      "cell_type": "code",
      "source": [
        "# Define your prompt for the meditation script\n",
        "prompt = \"Create a mindfulness meditation script focused on relaxation.\"\n",
        "\n",
        "# Generate the meditation script\n",
        "meditation_script = generate_meditation_script(prompt)\n",
        "\n",
        "# Display the structured meditation script\n",
        "if meditation_script:\n",
        "    print(meditation_script.model_dump_json(indent=2))\n",
        "else:\n",
        "    print(\"Failed to generate meditation script.\")"
      ],
      "metadata": {
        "colab": {
          "base_uri": "https://localhost:8080/"
        },
        "id": "fq3x6DfUWcjf",
        "outputId": "1012a148-839d-4132-9f64-672c98830fe9"
      },
      "execution_count": 48,
      "outputs": [
        {
          "output_type": "stream",
          "name": "stdout",
          "text": [
            "{\n",
            "  \"duration\": 10000,\n",
            "  \"focus_area\": \"relaxation\",\n",
            "  \"phrases\": [\n",
            "    {\n",
            "      \"text\": \"Find a comfortable position, either sitting or lying down.\",\n",
            "      \"pause\": 5000\n",
            "    },\n",
            "    {\n",
            "      \"text\": \"Gently close your eyes and take a deep breath in through your nose.\",\n",
            "      \"pause\": 5000\n",
            "    },\n",
            "    {\n",
            "      \"text\": \"Hold that breath for just a moment.\",\n",
            "      \"pause\": 3000\n",
            "    },\n",
            "    {\n",
            "      \"text\": \"Now, slowly exhale through your mouth, releasing any tension.\",\n",
            "      \"pause\": 5000\n",
            "    },\n",
            "    {\n",
            "      \"text\": \"Bring your attention to your breath, noticing the natural rhythm.\",\n",
            "      \"pause\": 5000\n",
            "    },\n",
            "    {\n",
            "      \"text\": \"Feel the rise and fall of your chest with each inhale and exhale.\",\n",
            "      \"pause\": 5000\n",
            "    },\n",
            "    {\n",
            "      \"text\": \"With each breath, imagine tension melting away from your body.\",\n",
            "      \"pause\": 5000\n",
            "    },\n",
            "    {\n",
            "      \"text\": \"Notice your shoulders drop and your muscles soften.\",\n",
            "      \"pause\": 5000\n",
            "    },\n",
            "    {\n",
            "      \"text\": \"Visualize a warm, calming light spreading from your heart, relaxing your entire body.\",\n",
            "      \"pause\": 7000\n",
            "    },\n",
            "    {\n",
            "      \"text\": \"Allow any thoughts to drift away like clouds in the sky.\",\n",
            "      \"pause\": 5000\n",
            "    },\n",
            "    {\n",
            "      \"text\": \"Focus on the sensation of peace and relaxation throughout your body.\",\n",
            "      \"pause\": 5000\n",
            "    },\n",
            "    {\n",
            "      \"text\": \"When you're ready, slowly bring your awareness back to the room.\",\n",
            "      \"pause\": 5000\n",
            "    },\n",
            "    {\n",
            "      \"text\": \"Gently open your eyes, carrying this sense of relaxation with you.\",\n",
            "      \"pause\": 5000\n",
            "    }\n",
            "  ]\n",
            "}\n"
          ]
        }
      ]
    },
    {
      "cell_type": "code",
      "source": [],
      "metadata": {
        "id": "u2m92HT0WbtG"
      },
      "execution_count": null,
      "outputs": []
    }
  ]
}